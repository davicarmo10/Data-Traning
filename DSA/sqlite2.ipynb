{
 "cells": [
  {
   "cell_type": "code",
   "execution_count": 3,
   "metadata": {},
   "outputs": [],
   "source": [
    "import sqlite3"
   ]
  },
  {
   "cell_type": "code",
   "execution_count": 4,
   "metadata": {},
   "outputs": [],
   "source": [
    "con = sqlite3.connect('cap12_dsa.db')"
   ]
  },
  {
   "cell_type": "code",
   "execution_count": 5,
   "metadata": {},
   "outputs": [],
   "source": [
    "cursor = con.cursor()"
   ]
  },
  {
   "cell_type": "code",
   "execution_count": 6,
   "metadata": {},
   "outputs": [],
   "source": [
    "sql_query = \"\"\" SELECT AVG(Unidades_Vendidas) FROM tb_vendas_dsa; \"\"\""
   ]
  },
  {
   "cell_type": "code",
   "execution_count": 7,
   "metadata": {},
   "outputs": [
    {
     "name": "stdout",
     "output_type": "stream",
     "text": [
      "[(10.506,)]\n"
     ]
    }
   ],
   "source": [
    "cursor.execute(sql_query)\n",
    "print(cursor.fetchall())"
   ]
  },
  {
   "cell_type": "code",
   "execution_count": 8,
   "metadata": {},
   "outputs": [],
   "source": [
    "sql_query2 = \"\"\" SELECT nome_produto, AVG(Unidades_Vendidas) FROM tb_vendas_dsa GROUP BY nome_produto; \"\"\""
   ]
  },
  {
   "cell_type": "code",
   "execution_count": 9,
   "metadata": {},
   "outputs": [
    {
     "data": {
      "text/plain": [
       "[('Produto_1', 12.0),\n",
       " ('Produto_10', 9.5),\n",
       " ('Produto_11', 14.181818181818182),\n",
       " ('Produto_12', 8.846153846153847),\n",
       " ('Produto_13', 6.0),\n",
       " ('Produto_14', 9.166666666666666),\n",
       " ('Produto_15', 9.75),\n",
       " ('Produto_16', 8.25),\n",
       " ('Produto_17', 11.714285714285714),\n",
       " ('Produto_18', 13.083333333333334),\n",
       " ('Produto_19', 9.727272727272727),\n",
       " ('Produto_2', 9.25),\n",
       " ('Produto_20', 7.555555555555555),\n",
       " ('Produto_21', 10.285714285714286),\n",
       " ('Produto_22', 13.6875),\n",
       " ('Produto_23', 10.818181818181818),\n",
       " ('Produto_24', 12.272727272727273),\n",
       " ('Produto_25', 9.538461538461538),\n",
       " ('Produto_26', 9.363636363636363),\n",
       " ('Produto_27', 11.1),\n",
       " ('Produto_28', 9.0),\n",
       " ('Produto_29', 9.692307692307692),\n",
       " ('Produto_3', 8.909090909090908),\n",
       " ('Produto_30', 9.875),\n",
       " ('Produto_31', 7.9),\n",
       " ('Produto_32', 11.923076923076923),\n",
       " ('Produto_33', 12.285714285714286),\n",
       " ('Produto_34', 8.1),\n",
       " ('Produto_35', 9.0),\n",
       " ('Produto_36', 9.090909090909092),\n",
       " ('Produto_37', 11.0),\n",
       " ('Produto_38', 12.8),\n",
       " ('Produto_39', 12.666666666666666),\n",
       " ('Produto_4', 11.153846153846153),\n",
       " ('Produto_40', 7.25),\n",
       " ('Produto_41', 11.857142857142858),\n",
       " ('Produto_42', 10.272727272727273),\n",
       " ('Produto_43', 11.0),\n",
       " ('Produto_44', 7.2),\n",
       " ('Produto_45', 8.875),\n",
       " ('Produto_46', 12.142857142857142),\n",
       " ('Produto_47', 10.571428571428571),\n",
       " ('Produto_48', 14.0),\n",
       " ('Produto_49', 11.875),\n",
       " ('Produto_5', 10.2),\n",
       " ('Produto_50', 10.545454545454545),\n",
       " ('Produto_6', 12.0),\n",
       " ('Produto_7', 13.5625),\n",
       " ('Produto_8', 11.071428571428571),\n",
       " ('Produto_9', 7.2)]"
      ]
     },
     "execution_count": 9,
     "metadata": {},
     "output_type": "execute_result"
    }
   ],
   "source": [
    "cursor.execute(sql_query2)\n",
    "cursor.fetchall()"
   ]
  },
  {
   "cell_type": "code",
   "execution_count": 10,
   "metadata": {},
   "outputs": [],
   "source": [
    "sql_query3 = \"\"\" SELECT Nome_Produto, Valor_Unitario FROM tb_vendas_dsa WHERE Valor_Unitario > 100 GROUP BY Nome_Produto \"\"\"\n"
   ]
  },
  {
   "cell_type": "code",
   "execution_count": 11,
   "metadata": {},
   "outputs": [
    {
     "data": {
      "text/plain": [
       "[('Produto_1', 161.33),\n",
       " ('Produto_10', 191.3),\n",
       " ('Produto_11', 116.83),\n",
       " ('Produto_12', 197.18),\n",
       " ('Produto_13', 124.63),\n",
       " ('Produto_14', 150.07),\n",
       " ('Produto_15', 199.24),\n",
       " ('Produto_16', 103.49),\n",
       " ('Produto_17', 199.62),\n",
       " ('Produto_18', 160.68),\n",
       " ('Produto_19', 151.51),\n",
       " ('Produto_2', 104.55),\n",
       " ('Produto_20', 194.8),\n",
       " ('Produto_21', 191.28),\n",
       " ('Produto_22', 106.38),\n",
       " ('Produto_23', 136.71),\n",
       " ('Produto_24', 101.17),\n",
       " ('Produto_25', 123.85),\n",
       " ('Produto_26', 158.71),\n",
       " ('Produto_27', 169.36),\n",
       " ('Produto_28', 180.7),\n",
       " ('Produto_29', 110.76),\n",
       " ('Produto_3', 164.55),\n",
       " ('Produto_30', 135.55),\n",
       " ('Produto_31', 143.05),\n",
       " ('Produto_32', 194.29),\n",
       " ('Produto_33', 102.3),\n",
       " ('Produto_34', 167.69),\n",
       " ('Produto_36', 161.97),\n",
       " ('Produto_37', 197.77),\n",
       " ('Produto_38', 154.03),\n",
       " ('Produto_39', 199.78),\n",
       " ('Produto_4', 116.57),\n",
       " ('Produto_40', 104.03),\n",
       " ('Produto_41', 128.05),\n",
       " ('Produto_42', 172.8),\n",
       " ('Produto_43', 194.33),\n",
       " ('Produto_44', 155.45),\n",
       " ('Produto_45', 119.4),\n",
       " ('Produto_46', 190.45),\n",
       " ('Produto_47', 146.07),\n",
       " ('Produto_48', 195.24),\n",
       " ('Produto_49', 119.61),\n",
       " ('Produto_5', 102.72),\n",
       " ('Produto_50', 191.3),\n",
       " ('Produto_6', 163.48),\n",
       " ('Produto_7', 145.76),\n",
       " ('Produto_8', 171.52),\n",
       " ('Produto_9', 166.11)]"
      ]
     },
     "execution_count": 11,
     "metadata": {},
     "output_type": "execute_result"
    }
   ],
   "source": [
    "cursor.execute(sql_query3)\n",
    "cursor.fetchall()"
   ]
  },
  {
   "cell_type": "code",
   "execution_count": 13,
   "metadata": {},
   "outputs": [],
   "source": [
    "cursor.close()\n",
    "con.close()"
   ]
  },
  {
   "cell_type": "code",
   "execution_count": 15,
   "metadata": {},
   "outputs": [],
   "source": [
    "con = sqlite3.connect('cap12_dsa.db')"
   ]
  }
 ],
 "metadata": {
  "kernelspec": {
   "display_name": "Python 3",
   "language": "python",
   "name": "python3"
  },
  "language_info": {
   "codemirror_mode": {
    "name": "ipython",
    "version": 3
   },
   "file_extension": ".py",
   "mimetype": "text/x-python",
   "name": "python",
   "nbconvert_exporter": "python",
   "pygments_lexer": "ipython3",
   "version": "3.10.0"
  }
 },
 "nbformat": 4,
 "nbformat_minor": 2
}
